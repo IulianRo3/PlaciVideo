{
 "cells": [
  {
   "cell_type": "code",
   "execution_count": 1,
   "metadata": {},
   "outputs": [],
   "source": [
    "import requests\n",
    "from bs4 import BeautifulSoup\n",
    "from pprint import pprint\n",
    "from datetime import date\n",
    "from os import path\n",
    "\n",
    "\n",
    "headers = {'User-Agent': 'Mozilla/5.0 (Windows NT 6.1; WOW64) AppleWebKit/537.36 (KHTML, like Gecko) Chrome/56.0.2924.76 Safari/537.36', \"Upgrade-Insecure-Requests\": \"1\",\"DNT\": \"1\",\"Accept\": \"text/html,application/xhtml+xml,application/xml;q=0.9,*/*;q=0.8\",\"Accept-Language\": \"en-US,en;q=0.5\",\"Accept-Encoding\": \"gzip, deflate\"}\n",
    "html_text = requests.get('https://www.compari.ro/placi-video-c3142/',headers=headers)\n",
    "soup = BeautifulSoup(html_text.text,'lxml')\n",
    "Placi_Video = soup.find_all('div',class_='col-lg-6 col-md-6 col-sm-6 col-xs-8 top-center')\n",
    "\n",
    "Nume = []\n",
    "Lista_Pret = []\n",
    "Link_curat = []\n",
    "Titlu = []\n",
    "today = date.today()\n",
    "data_curr = []\n",
    "Chipset =[]\n",
    "Ventilatoare = []\n",
    "\n",
    "lista_link = []\n",
    "counter = 0\n",
    "for Placa in Placi_Video:\n",
    "    link=Placa.find('a',href = True)\n",
    "    lista_link.append(link['href'])\n",
    "    "
   ]
  },
  {
   "cell_type": "code",
   "execution_count": 2,
   "metadata": {},
   "outputs": [],
   "source": [
    "from datetime import date, datetime\n",
    "\n",
    "for i in lista_link:\n",
    "    html_link2 = requests.get(i,headers=headers)\n",
    "    soup2 = BeautifulSoup(html_link2.text,'lxml')\n",
    "    \n",
    "    Pret = soup2.find('span',class_='price').text.replace('RON','').replace(',','.').replace('de la','').replace(' ','')\n",
    "    \n",
    "    Surse = soup2.find_all('div',class_='optoffer device-desktop')\n",
    "    for Sursa in Surse:\n",
    "        Pret_Surse = Sursa.find('div',class_='row-price').text.replace('RON','').replace(',','.').replace('de la','').replace(' ','')\n",
    "        \n",
    "        if Pret == Pret_Surse:\n",
    "                Link_Sursa = Sursa.find('a',href=True)\n",
    "                Link_curat.append(Link_Sursa['href'])\n",
    "                Titlu.append(Sursa.find('div',class_='col-button button-box').text.replace('spre magazin »',''))\n",
    "                Nume.append(soup2.find('h1',class_='visible-xs').text.replace('\\n','').replace('Placa video','').replace('   ',''))\n",
    "                Lista_Pret.append(soup2.find('span',class_='price').text.replace('RON','').replace(',','.').replace('de la','').replace(' ',''))\n",
    "                data_curr.append(today.strftime(\"%d/%m/%Y\"))\n",
    "                Chipset.append(soup2.find('td',text = 'Familie chipset video').find_next_sibling('td').text)\n",
    "                Ventilatoare.append(soup2.find('td',text = 'Numar ventilatoare').find_next_sibling('td').text.replace('buc',''))\n",
    "        else:\n",
    "            Link_Sursa = 'Nu s a gasit'\n",
    "    \n",
    "\n",
    "for i in range(len(Lista_Pret)):\n",
    "    Lista_Pret[i] = float(Lista_Pret[i])\n",
    "    Ventilatoare[i] = float(Ventilatoare[i])\n",
    "    "
   ]
  },
  {
   "cell_type": "code",
   "execution_count": 3,
   "metadata": {},
   "outputs": [
    {
     "name": "stdout",
     "output_type": "stream",
     "text": [
      "   Data curenta                                    Denumire Produs  Pret LEI  \\\n",
      "0    21/10/2021    MSI GeForce RTX 3060 X 12GB GDRR6 192bit (RT...   3920.99   \n",
      "1    21/10/2021    GIGABYTE GeForce RTX 3060 12GB OC GDDR6 192b...   4224.50   \n",
      "2    21/10/2021    GIGABYTE GeForce RTX 3060 Ti 8GB GDDR6 256bi...   4599.00   \n",
      "3    21/10/2021    GIGABYTE GeForce RTX 3090 GAMING OC 24GB GDD...  13999.00   \n",
      "4    21/10/2021    MSI GeForce RTX 3070 Ti 8GB GDDR6 256bit (RT...   5932.00   \n",
      "5    21/10/2021    ZOTAC GeForce RTX 3060 Twin Edge OC 12GB GDD...   3599.00   \n",
      "6    21/10/2021    GIGABYTE GeForce EAGLE RTX 3060 Ti 8GB GDDR6...   4880.99   \n",
      "7    21/10/2021    GIGABYTE GeForce EAGLE RTX 3060 Ti 8GB GDDR6...   4880.99   \n",
      "8    21/10/2021    KFA2 GeForce 1CLICK OC RTX 3060 12GB GDDR6 1...   5999.00   \n",
      "9    21/10/2021    GIGABYTE GeForce RTX 3060 TI EAGLE OC 8GB GD...   4249.00   \n",
      "10   21/10/2021    ASRock Radeon RX 6600 XT 8GB GDDR6 (RX6600XT...   4299.00   \n",
      "11   21/10/2021    GIGABYTE GeForce GTX 1050 Ti OC 4GB GDDR5 12...   1436.09   \n",
      "12   21/10/2021    MSI GeForce RTX 3080 Ti 12GB GDDR6X 384bit (...  10599.00   \n",
      "13   21/10/2021    ASUS GeForce RTX 3060 Ti 8GB OC GDDR6 256bit...   4499.00   \n",
      "14   21/10/2021    MSI RTX 3060 Ti 8GB GDDR6 256bit (RTX 3060 T...   4299.00   \n",
      "15   21/10/2021    MSI RTX 3060 Ti 8GB GDDR6 256bit (RTX 3060 T...   4299.00   \n",
      "16   21/10/2021    GIGABYTE Radeon RX 6600 XT 8GB OC GDDR6 128b...   3999.00   \n",
      "17   21/10/2021    GIGABYTE GeForce GTX 1650 D6 OC 4GB GDDR5 12...   1699.99   \n",
      "18   21/10/2021    EVGA GeForce RTX 2060 SC GAMING 6GB OC GDDR6...   3826.99   \n",
      "19   21/10/2021    GIGABYTE Radeon RX 6700 XT OC 12GB GDDR6 192...   5439.99   \n",
      "20   21/10/2021    ASUS GeForce GTX 1050 Ti OC 4GB GDDR5 128bit...   1349.00   \n",
      "21   21/10/2021    MSI GeForce RTX 3060 Ti 8GB GDDR6 256bit (RT...   4699.00   \n",
      "22   21/10/2021    MSI GeForce RTX 3060 Ti 8GB GDDR6 256bit (RT...   4699.00   \n",
      "23   21/10/2021    ASUS GeForce RTX 3080 Ti OC 12GB GDDR6X 384b...  11080.00   \n",
      "24   21/10/2021    SAPPHIRE Radeon Pulse RX 6600 XT 8GB GDDR6 (...   3799.00   \n",
      "25   21/10/2021    GIGABYTE GeForce GTX 1660 OC 6GB GDDR5 (GV-N...   2754.99   \n",
      "26   21/10/2021    ZOTAC GeForce GAMING Twin Edge GeForce RTX 3...   4199.00   \n",
      "27   21/10/2021    ZOTAC GeForce Twin Edge RTX 3070 8GB GDDR6 2...   5299.99   \n",
      "\n",
      "           Site                                              Sursa  \\\n",
      "0      pcone.ro  https://www.compari.ro/Jump.php?ProductAttribu...   \n",
      "1    leumart.ro  https://www.compari.ro/Jump.php?ProductAttribu...   \n",
      "2      pcbit.ro  https://www.compari.ro/Jump.php?ProductAttribu...   \n",
      "3        cel.ro  https://www.compari.ro/Jump.php?ProductAttribu...   \n",
      "4    leumart.ro  https://www.compari.ro/Jump.php?ProductAttribu...   \n",
      "5      baset.ro  https://www.compari.ro/Jump.php?ProductAttribu...   \n",
      "6      vexio.ro  https://www.compari.ro/Jump.php?ProductAttribu...   \n",
      "7      pcone.ro  https://www.compari.ro/Jump.php?ProductAttribu...   \n",
      "8    novamag.ro  https://www.compari.ro/Jump.php?ProductAttribu...   \n",
      "9        cel.ro  https://www.compari.ro/Jump.php?ProductAttribu...   \n",
      "10       cel.ro  https://www.compari.ro/Jump.php?ProductAttribu...   \n",
      "11  prostore.ro  https://www.compari.ro/Jump.php?ProductAttribu...   \n",
      "12   proline.ro  https://www.compari.ro/Jump.php?ProductAttribu...   \n",
      "13     baset.ro  https://www.compari.ro/Jump.php?ProductAttribu...   \n",
      "14     vexio.ro  https://www.compari.ro/Jump.php?ProductAttribu...   \n",
      "15     pcone.ro  https://www.compari.ro/Jump.php?ProductAttribu...   \n",
      "16       cel.ro  https://www.compari.ro/Jump.php?ProductAttribu...   \n",
      "17  pcgarage.ro  https://www.compari.ro/Jump.php?ProductAttribu...   \n",
      "18     pcone.ro  https://www.compari.ro/Jump.php?ProductAttribu...   \n",
      "19  pcgarage.ro  https://www.compari.ro/Jump.php?ProductAttribu...   \n",
      "20     baset.ro  https://www.compari.ro/Jump.php?ProductAttribu...   \n",
      "21     vexio.ro  https://www.compari.ro/Jump.php?ProductAttribu...   \n",
      "22     pcone.ro  https://www.compari.ro/Jump.php?ProductAttribu...   \n",
      "23   leumart.ro  https://www.compari.ro/Jump.php?ProductAttribu...   \n",
      "24   kattara.ro  https://www.compari.ro/Jump.php?ProductAttribu...   \n",
      "25  pcgarage.ro  https://www.compari.ro/Jump.php?ProductAttribu...   \n",
      "26     baset.ro  https://www.compari.ro/Jump.php?ProductAttribu...   \n",
      "27     forit.ro  https://www.compari.ro/Jump.php?ProductAttribu...   \n",
      "\n",
      "            Chipset  Nr Ventilatoare  \n",
      "0          RTX 3060              2.0  \n",
      "1          RTX 3060              3.0  \n",
      "2       RTX 3060 Ti              3.0  \n",
      "3          RTX 3090              3.0  \n",
      "4       RTX 3070 Ti              3.0  \n",
      "5          RTX 3060              2.0  \n",
      "6       RTX 3060 Ti              2.0  \n",
      "7       RTX 3060 Ti              2.0  \n",
      "8          RTX 3060              2.0  \n",
      "9       RTX 3060 Ti              2.0  \n",
      "10       RX 6600 XT              2.0  \n",
      "11      GTX 1050 Ti              2.0  \n",
      "12      RTX 3080 Ti              3.0  \n",
      "13      RTX 3060 Ti              3.0  \n",
      "14      RTX 3060 Ti              2.0  \n",
      "15      RTX 3060 Ti              2.0  \n",
      "16       RX 6600 XT              3.0  \n",
      "17         GTX 1650              1.0  \n",
      "18         RTX 2060              1.0  \n",
      "19       RX 6700 XT              3.0  \n",
      "20      GTX 1050 Ti              2.0  \n",
      "21      RTX 3060 Ti              3.0  \n",
      "22      RTX 3060 Ti              3.0  \n",
      "23      RTX 3080 Ti              3.0  \n",
      "24       RX 6600 XT              2.0  \n",
      "25         GTX 1660              2.0  \n",
      "26      RTX 3060 Ti              2.0  \n",
      "27         RTX 3070              2.0  \n"
     ]
    }
   ],
   "source": [
    "import pandas as pd\n",
    "\n",
    "Daily_GPA_df = pd.DataFrame()\n",
    "Daily_GPA_df['Data curenta'] = data_curr\n",
    "Daily_GPA_df['Denumire Produs'] = Nume\n",
    "Daily_GPA_df['Pret LEI'] = Lista_Pret\n",
    "Daily_GPA_df['Site'] = Titlu\n",
    "Daily_GPA_df['Sursa'] = Link_curat\n",
    "Daily_GPA_df['Chipset'] = Chipset\n",
    "Daily_GPA_df['Nr Ventilatoare'] = Ventilatoare\n",
    "print(Daily_GPA_df)"
   ]
  },
  {
   "cell_type": "code",
   "execution_count": 12,
   "metadata": {},
   "outputs": [
    {
     "name": "stdout",
     "output_type": "stream",
     "text": [
      "Nu s-a creat\n"
     ]
    }
   ],
   "source": [
    "if path.exists('AnalizaPlaci3.xlsx'):\n",
    "    print('Nu s-a creat')\n",
    "else:\n",
    "    Daily_GPA_df.to_excel(r'D:\\\\Java\\\\VS-CodPitonul\\\\Python\\\\AnalizaPlaci3.xlsx',index=False)\n",
    "    print('S-a creat')"
   ]
  },
  {
   "cell_type": "code",
   "execution_count": 13,
   "metadata": {},
   "outputs": [
    {
     "name": "stdout",
     "output_type": "stream",
     "text": [
      "Ai adaugat deja azi, incearca maine\n"
     ]
    }
   ],
   "source": [
    "from openpyxl import load_workbook\n",
    "\n",
    "GPU_Comparator_df2 = pd.ExcelFile('AnalizaPlaci.xlsx').parse('Sheet1')\n",
    "if Daily_GPA_df['Data curenta'].iloc[0] != GPU_Comparator_df2['Data curenta'].iloc[-1]:\n",
    "    book = load_workbook('AnalizaPlaci.xlsx')\n",
    "    writer = pd.ExcelWriter('AnalizaPlaci.xlsx', engine='openpyxl')\n",
    "    writer.book = book\n",
    "    writer.sheets = {ws.title: ws for ws in book.worksheets}\n",
    "\n",
    "    for sheetname in writer.sheets:\n",
    "        Daily_GPA_df.to_excel(writer,sheet_name=sheetname, startrow=writer.sheets[sheetname].max_row, index = False,header= False)\n",
    "\n",
    "    writer.save()\n",
    "    df3 = pd.read_excel('AnalizaPlaci.xlsx')\n",
    "    df3.to_excel('AnalizaPlaci3.xlsx',index = False)\n",
    "else:\n",
    "    print('Ai adaugat deja azi, incearca maine')\n"
   ]
  },
  {
   "cell_type": "code",
   "execution_count": 110,
   "metadata": {},
   "outputs": [
    {
     "data": {
      "text/plain": [
       "[<matplotlib.lines.Line2D at 0x120d6430700>,\n",
       " <matplotlib.lines.Line2D at 0x120d6a85a00>,\n",
       " <matplotlib.lines.Line2D at 0x120d60a4e20>,\n",
       " <matplotlib.lines.Line2D at 0x120d60a4340>,\n",
       " <matplotlib.lines.Line2D at 0x120d6a85c40>,\n",
       " <matplotlib.lines.Line2D at 0x120d6a85d60>,\n",
       " <matplotlib.lines.Line2D at 0x120d6a85e80>,\n",
       " <matplotlib.lines.Line2D at 0x120d6a85fa0>,\n",
       " <matplotlib.lines.Line2D at 0x120d6a94100>,\n",
       " <matplotlib.lines.Line2D at 0x120d6a94220>,\n",
       " <matplotlib.lines.Line2D at 0x120d644ba90>,\n",
       " <matplotlib.lines.Line2D at 0x120d6a94340>,\n",
       " <matplotlib.lines.Line2D at 0x120d6a94550>,\n",
       " <matplotlib.lines.Line2D at 0x120d6a94670>,\n",
       " <matplotlib.lines.Line2D at 0x120d6a94790>,\n",
       " <matplotlib.lines.Line2D at 0x120d6a948b0>,\n",
       " <matplotlib.lines.Line2D at 0x120d6a949d0>,\n",
       " <matplotlib.lines.Line2D at 0x120d6a94af0>,\n",
       " <matplotlib.lines.Line2D at 0x120d6a94c10>,\n",
       " <matplotlib.lines.Line2D at 0x120d6a94d30>,\n",
       " <matplotlib.lines.Line2D at 0x120d6a94e50>,\n",
       " <matplotlib.lines.Line2D at 0x120d6a94f70>,\n",
       " <matplotlib.lines.Line2D at 0x120d03870d0>,\n",
       " <matplotlib.lines.Line2D at 0x120d03871f0>,\n",
       " <matplotlib.lines.Line2D at 0x120d0387310>,\n",
       " <matplotlib.lines.Line2D at 0x120d0387430>,\n",
       " <matplotlib.lines.Line2D at 0x120d0387550>,\n",
       " <matplotlib.lines.Line2D at 0x120d0387670>,\n",
       " <matplotlib.lines.Line2D at 0x120d0387790>,\n",
       " <matplotlib.lines.Line2D at 0x120d03878b0>,\n",
       " <matplotlib.lines.Line2D at 0x120d03879d0>]"
      ]
     },
     "execution_count": 110,
     "metadata": {},
     "output_type": "execute_result"
    },
    {
     "data": {
      "image/png": "[encoded data removed]",
      "text/plain": [
       "<Figure size 432x288 with 1 Axes>"
      ]
     },
     "metadata": {},
     "output_type": "display_data"
    }
   ],
   "source": [
    "import pandas as pd \n",
    "import matplotlib.pyplot as plt\n",
    "import numpy as np\n",
    "\n",
    "Filter_df = pd.read_excel('AnalizaPlaci2.xlsx',index_col=None)\n",
    "Filter_df = Filter_df.drop('Ventilatoare',axis=1)\n",
    "Filter_df['Data curenta'] = pd.to_datetime(Filter_df['Data curenta'],format = \"%d/%m/%Y\")\n",
    "df3 =Filter_df.groupby(['Data curenta','Denumire Produs']).mean().unstack().reset_index()\n",
    "\n",
    "A= df3.iloc[:,[0]]\n",
    "B= df3.iloc[:,1:]\n",
    "\n",
    "plt.plot(A,B)"
   ]
  }
 ],
 "metadata": {
  "interpreter": {
   "hash": "f3b30644af622178bdfc2e69a9cdafe13dfe4949b014da8c3a96f630b25543ca"
  },
  "kernelspec": {
   "display_name": "Python 3.9.1 64-bit",
   "name": "python3"
  },
  "language_info": {
   "codemirror_mode": {
    "name": "ipython",
    "version": 3
   },
   "file_extension": ".py",
   "mimetype": "text/x-python",
   "name": "python",
   "nbconvert_exporter": "python",
   "pygments_lexer": "ipython3",
   "version": "3.9.1"
  },
  "orig_nbformat": 4
 },
 "nbformat": 4,
 "nbformat_minor": 2
}
